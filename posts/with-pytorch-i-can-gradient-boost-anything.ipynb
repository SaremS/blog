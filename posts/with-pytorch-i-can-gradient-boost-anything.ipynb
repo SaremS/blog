{
 "cells": [
  {
   "cell_type": "markdown",
   "id": "b5e79ccb-7919-4502-a777-0d211e45c882",
   "metadata": {},
   "source": [
    "---\n",
    "title: \"With \"\n",
    "author: \"Sarem\"\n",
    "date: \"2024-01-18\"\n",
    "categories: [Decision Trees, Gradient Boosting]\n",
    "format:\n",
    "  html:\n",
    "    toc: true\n",
    "    toc-location: left\n",
    "    toc-depth: 2\n",
    "    toc-title: Contents\n",
    "description-meta: \"How PyTorch can make your Gradient Boosting models more flexible\"\n",
    "---"
   ]
  },
  {
   "cell_type": "markdown",
   "id": "270f06d9",
   "metadata": {},
   "source": [
    "## Introduction\n",
    "\n",
    "[Gradient Boosting](https://en.wikipedia.org/wiki/Gradient_boosting) is a powerful machine learning technique that can be used for both regression and classification problems. Its fundamental idea is to combine weak, almost trivial base model into a single strong ensemble. A fairly unique feature of Gradient Boosting is the loss minimization by calculating derivatives with respect to the model output, rather than model parameters. \n",
    "\n",
    "This allows for the distinct capability to use non-differentiable models as a base learner, typically decision trees. In fact, there is probably not a single popular Gradient Boosting library that does not rely on trees. This allows Boosting models to handle complex, non-smooth data generating processes fairly well. As a result, popular implementations like [XGBoost](https://xgboost.readthedocs.io/en/latest/) and [LightGBM](https://lightgbm.readthedocs.io/en/latest/) regularly dominate Kaggle competitions and the like.\n",
    "\n",
    "PyTorch on the other hand is rather well known for programming Deep Learning type models. Thus, the idea to use PyTorch for Gradient Boosting might seem a bit odd at first. However, its capabilities are not limited to just Neural Networks but it is actually a much richer framework for anything [AutoDiff](https://en.wikipedia.org/wiki/Automatic_differentiation). Whatever function we can express in its domain language, PyTorch will find the corresponding derivatives.\n",
    "\n",
    "Hence, it should be interesting to let PyTorch find the deriviatives for increasingly complex loss functions. Then, we can apply the standard Gradinent Boosting algorithm to fit simple Decision Trees to those derivatives. This way, we can hopefully create models that are more flexible than standard Gradient Boosting implementations, but still as powerful."
   ]
  },
  {
   "cell_type": "markdown",
   "id": "51646a4d",
   "metadata": {},
   "source": [
    "## A quick recap on Gradient Boosting\n",
    "\n",
    "As already mentioned, in Gradient Boosting we are interested in the derivatives of the loss function with respect to the model output:\n",
    "\n",
    "$$\\frac{\\partial L(\\hat{F}(x),y)}{\\partial \\hat{F}(x)}$$\n",
    "\n",
    "Notice that, here, we don't use the chain rule to extend the above to the model parameters. Rather, we stick to the above and perform gradient descent in, roughly speaking, function space. At each gradient descent step, we fit our base learner to the negative gradients with respect to the previous round's model output:\n",
    "\n",
    "$$\\hat{f}_{m+1} = \\underset{<parameter>}{\\text{argmin}}\\frac{1}{N}\\sum_{i=1}^N\n",
    "\\left(\\frac{\\partial L(\\hat{F}_{m-1}(x_i),y_i)}{\\partial \\hat{F}_{m-1}(x_i)}- f(x_i)\\right)^2$$\n",
    "\n",
    "Here, $\\hat{F}_{m-1}$ is the ensemble of the first $m-1$ base learners, denoted as $\\hat{f}_j$. Notice also that the [MSE](https://en.wikipedia.org/wiki/Mean_squared_error) criterion is not necessarily the only one possible. For simplicity, we will stick to it in this post, though. \n",
    "\n",
    "\n",
    "### Word of caution\n",
    "\n",
    "As an important side-note, consider the following: If we use the squared loss, i.e.\n",
    "\n",
    "$$L(\\hat{F}(x),y) = 0.5\\left(y-\\hat{F}(x)\\right)^2,$$\n",
    "\n",
    "the derivative with respect to the model output is simply the residual:\n",
    "\n",
    "$$\\frac{\\partial L(\\hat{F}(x),y)}{\\partial \\hat{f}(x)} = y-\\hat{F}(x)$$\n",
    "\n",
    "If you first learn about Gradient Boosting in the context of regression, you might now be tempted to think that your base learner should always estimate the residual. Given the above, however, this is obviously not the case. \n",
    "\n",
    "### Updating the ensemble\n",
    "\n",
    "Next, we want to update our ensemble by adding the new base learner. As already mentioned, we do this by performing what looks like a gradient descent step in function space:\n",
    "\n",
    "$$\\hat{F}_m(x) = \\hat{F}_{m-1}(x) - \\gamma \\hat{f}_m(x)$$\n",
    "\n",
    "Here, $\\gamma$ is the learning rate. In practice, we usually use a small value like 0.01 or 0.001.\n",
    "\n",
    "### Initializing the ensemble\n",
    "\n",
    "The final question that remains is how to initialize the ensemble. Since our goal is to minimize the loss function, we should use a model that acts accordingly. This initial model is typically just a constant value, set as the minimum of the loss function for all training inputs:\n",
    "\n",
    "$$\\hat{f}_0(x) = \\argmin_{c} \\frac{1}{N}\\sum_{i=1}^N L(c,y_i)$$\n",
    "\n",
    "For the MSE loss, [this is simply the mean of the target values](https://math.stackexchange.com/questions/2554243/understanding-the-mean-minimizes-the-mean-squared-error). Keep in mind, again, that this is usually not the case for other loss functions. \n",
    "\n",
    "Also, you will notice that in the below examples, I won't always use the loss minimizing constant(s) to start the algorithm. While this might yield slightly worse results, it leads to less verbose code. If you want to replicate the results, you might therefore want to use the acatual loss minimizing constant(s).\n",
    "\n",
    "### The algorithm in summary\n",
    "\n",
    "To summarize, the algorithm for Gradient Boosting is as follows:\n",
    "\n",
    "1. Initialize the ensemble with a constant value\n",
    "2. For each round $m$:\n",
    "    1. Calculate the negative gradients with respect to the previous round's model output\n",
    "    2. Fit a base learner to the negative gradients\n",
    "    3. Update the ensemble by performing a gradient descent step in function space\n"
   ]
  },
  {
   "cell_type": "markdown",
   "id": "e7d6d3df",
   "metadata": {},
   "source": [
    "## Gradient Boosting for conditional probability distributions\n",
    "\n",
    "If you come from a Statistics background, you might be saddened by the lack of libraries for probabilistic Gradient Boosting. Despite the countless probability distributions that could well suit your data, you are usually limited to Bernoulli/Multinomial distributions via cross-entropy losses.\n",
    "\n",
    "Thus, without further ado, let's see how PyTorch can solve this problem for us. While we will implement the algorithm for a Gaussian distribution, it should be fairly easy to extend it to other distributions. The most characteristic feature here is that we need a Boosting model for each of the distribution's parameters. In the Gaussian case, this means two models for the mean and standard deviation, respectively. Let us exemplify this by writing our full model as a stacked vector of two models:\n",
    "\n",
    "$$F(x)=\\begin{bmatrix}F^{(1)}(x) \\\\ F^{(2)}(x)\\end{bmatrix}$$\n",
    "\n",
    "In addition, we also need to ensure that the parameters are valid, i.e. positive for the standard deviation. Thus, we also have to map the output of the corresponding Gradient Boosting model to the positive, non-zero reals. This can be done, for example, via the $\\exp$-function. \n",
    "\n",
    "For a single input $x$, the full probabilistic description is now the following:\n",
    "\n",
    "$$p(y|x)=\\mathcal{N}(y|F^{(1)}(x), \\exp{(F^{(2)}(x))})$$\n",
    "\n",
    "As usual for probabilistic models, we will use the [negative log-likelihood](https://en.wikipedia.org/wiki/Likelihood_function#Log-likelihood) as our loss function:\n",
    "\n",
    "$$L(F(x),y)=-\\log p(y|x) = - \\log\\mathcal{N}(y|F^{(1)}(x), \\exp{(F^{(2)}(x))})$$\n",
    "\n",
    "To initialize the model, we can use the [maximum likelihood estimates](https://www.statlect.com/fundamentals-of-statistics/normal-distribution-maximum-likelihood#:~:text=Proof-,The%20maximum%20likelihood%20estimators,-The%20maximum%20likelihood) for the mean and standard deviation:\n",
    "\n",
    "$$\\hat{F}^{(1)}_0(x) = \\frac{1}{N}\\sum_{i=1}^N y_i$$\n",
    "\n",
    "and\n",
    "\n",
    "$$\\hat{F}^{(2)}_0(x) = \\sqrt{\\frac{1}{N}\\sum_{i=1}^N (y_i-\\hat{F}^{(1)}(x))^2}.$$\n",
    "\n",
    "Finally, we calculate the logarithm of $\\hat{F}^{(2)}_0(x)$ to account for the exponentiation in the loss function. Keep in mind that the latter is not necessarily the optimtal initialization. However, it is a good starting point for our experiments.\n",
    "\n",
    "We can now code our model as follows:\n",
    "\n"
   ]
  },
  {
   "cell_type": "code",
   "execution_count": 35,
   "id": "1b916bc3-3a76-4ce5-8d05-85c9de551758",
   "metadata": {},
   "outputs": [],
   "source": [
    "import numpy as np\n",
    "import pandas as pd\n",
    "import matplotlib.pyplot as plt\n",
    "\n",
    "from sklearn.tree import DecisionTreeRegressor\n",
    "from sklearn.linear_model import LinearRegression\n",
    "from sklearn.datasets import fetch_california_housing\n",
    "from sklearn.model_selection import train_test_split\n",
    "from sklearn.ensemble import GradientBoostingRegressor\n",
    "\n",
    "import torch\n",
    "from torch.distributions.normal import Normal\n",
    "from torch.autograd import Variable\n",
    "\n",
    "from typing import List, Optional\n",
    "\n",
    "class GaussianGradientBoosting:\n",
    "\n",
    "    def __init__(self,\n",
    "                 learning_rate: float = 0.025,\n",
    "                 max_depth: int = 1,\n",
    "                 n_estimators: int =100):\n",
    "\n",
    "        self.learning_rate: float = learning_rate\n",
    "        self.max_depth: int = max_depth\n",
    "        self.n_estimators: int = n_estimators\n",
    "\n",
    "        self.init_mu: Optional[float] = None\n",
    "        self.mu_trees: List[DecisionTreeRegressor] = []\n",
    "        \n",
    "        self.init_sigma: Optional[float] = None\n",
    "        self.sigma_trees: List[DecisionTreeRegressor] = []\n",
    "        \n",
    "        self.is_trained: bool = False\n",
    "\n",
    "    def predict(self, X: np.array) -> np.array:\n",
    "        assert self.is_trained\n",
    "\n",
    "        mus = self._predict_mus(X).reshape(-1,1)\n",
    "        log_sigmas = np.exp(self._predict_log_sigmas(X).reshape(-1,1))\n",
    "\n",
    "        return np.concatenate([mus, log_sigmas], 1) \n",
    "\n",
    "    def _predict_raw(self, X: np.array) -> np.array:\n",
    "        assert self.is_trained\n",
    "\n",
    "        mus = self._predict_mus(X).reshape(-1,1)\n",
    "        log_sigmas = self._predict_log_sigmas(X).reshape(-1,1)\n",
    "\n",
    "        return np.concatenate([mus, log_sigmas], 1) \n",
    "    \n",
    "\n",
    "    def fit(self, X: np.array, y: np.array) -> None:\n",
    "        self._fit_initial(y)\n",
    "\n",
    "        self.is_trained = True\n",
    "\n",
    "        for _ in range(self.n_estimators):\n",
    "            y_pred = self._predict_raw(X)\n",
    "\n",
    "            gradients = self._get_gradients(y, y_pred)\n",
    "\n",
    "            mu_tree = DecisionTreeRegressor(max_depth=self.max_depth)\n",
    "            mu_tree.fit(X, gradients[:,0])\n",
    "            self.mu_trees.append(mu_tree)\n",
    "\n",
    "            sigma_tree = DecisionTreeRegressor(max_depth=self.max_depth)\n",
    "            sigma_tree.fit(X, gradients[:,1])\n",
    "            self.sigma_trees.append(sigma_tree)\n",
    "\n",
    "\n",
    "    def _fit_initial(self, y: np.array) -> None:\n",
    "        assert not self.is_trained\n",
    "        \n",
    "        self.init_mu = np.mean(y)\n",
    "        self.init_sigma = np.log(np.std(y))\n",
    "\n",
    "\n",
    "    def _get_gradients(self, y: np.array, y_pred: np.array) -> np.array:\n",
    "        y_torch = torch.tensor(y).float()\n",
    "        y_pred_torch = Variable(torch.tensor(y_pred).float(), requires_grad=True)\n",
    "\n",
    "        normal_dist = Normal(y_pred_torch[:,0], torch.exp(y_pred_torch[:,1])).log_prob(y_torch).sum()\n",
    "        normal_dist.backward()\n",
    "\n",
    "        return y_pred_torch.grad.numpy()\n",
    "\n",
    "\n",
    "    def _predict_mus(self, X: np.array) -> np.array:\n",
    "        output = np.zeros(len(X))\n",
    "\n",
    "        output += self.init_mu\n",
    "\n",
    "        for tree in self.mu_trees:\n",
    "            output += self.learning_rate * tree.predict(X)\n",
    "\n",
    "        return output\n",
    "\n",
    "    def _predict_log_sigmas(self, X: np.array) -> np.array:\n",
    "        output = np.zeros(len(X))\n",
    "\n",
    "        output += self.init_sigma\n",
    "\n",
    "        for tree in self.sigma_trees:\n",
    "            output += self.learning_rate * tree.predict(X)\n",
    "\n",
    "        return output\n",
    "        \n",
    "        \n",
    "        "
   ]
  },
  {
   "cell_type": "markdown",
   "id": "40f305e2",
   "metadata": {},
   "source": [
    "Let's take look at some important code fragments. In particular, the steps in ```fit``` are interesting to us:\n",
    "\n",
    "At first, ```self._fit_initial(y)``` initializes the model via the mean and log-standard deviation as described above. Next, we iterate over the number of rounds, as defined by the ```n_estimators``` variable. The ```_predict_raw``` method calculates the models' outputs at $m-1$, then we pass the results to \n",
    "```_get_gradients```. In the latter, we then use PyTorch to differentiate the log-likelihood loss with respect to each output. Lucky for us, PyTorch already has the required log-likelihood function available via ```log_prob```:\n",
    "\n",
    "```python\n",
    "y_torch = torch.tensor(y).float()\n",
    "y_pred_torch = Variable(torch.tensor(y_pred).float(), requires_grad=True)\n",
    "\n",
    "normal_dist = Normal(y_pred_torch[:,0], torch.exp(y_pred_torch[:,1])).log_prob(y_torch).sum()\n",
    "normal_dist.backward()\n",
    "\n",
    "return y_pred_torch.grad.numpy()\n",
    "```\n",
    "\n",
    "Notice that PyTorch requires a single scalar value as the final loss. Hence we need to sum the log-likelihoods for each input. It is easy to check that the respective derivatives are still as expected:\n",
    "\n",
    "$$\\begin{gathered}\n",
    "\\frac{\\partial \\sum_{i=1}^N L(F(x_i),y_i)}{\\partial F^{(m)}(x_T)} \\\\\n",
    "=\\sum_{i=1}^N \\frac{\\partial L(F(x_i),y_i)}{\\partial F^{(m)}(x_t)} \\\\\n",
    "= 0 + 0 + \\cdots + \\frac{\\partial L(F(x_t),y_t)}{\\partial F^{(m)}(x_t)} + 0 + \\cdots + 0\n",
    "\\end{gathered}\n",
    "$$\n",
    "\n",
    "where $t$ denotes the index of the input $x_t$ for which we want to calculate the derivative.\n",
    "\n",
    "In a last step, we fit two ```sklearn.tree.DecisionTreeRegressor``` to the negative gradients. Since ```log_prob``` returns the positive (=\"negative negative\") log-likelihood, the respective gradients will already have the correct signs. \n",
    "\n",
    "Now, let us test our model on a simple toy problem. We define the data generating process as follows:\n",
    "\n",
    "$$\n",
    "\\begin{gathered}\n",
    "p(x) = \\mathcal{U}(x|-3,3) \\\\\n",
    "p(y|x) = \\mathcal{N}(y|sin(x), 0.05 + 0.1 * x^2)\n",
    "\\end{gathered}\n",
    "$$\n",
    "\n",
    "$x$ is uniformly distributed between -3 and 3, while $y$ is normally distributed with a mean of $sin(x)$ and a standard deviation of $0.05 + 0.1 * x^2$. This makes the data heteroscedastic, i.e. the variance depends on the input $x$. As useful model should be able to capture both the conditional mean and standard deviation."
   ]
  },
  {
   "cell_type": "code",
   "execution_count": 40,
   "id": "8c0dc39f",
   "metadata": {},
   "outputs": [
    {
     "data": {
      "text/plain": [
       "<matplotlib.collections.PathCollection at 0x13f7bbb20>"
      ]
     },
     "execution_count": 40,
     "metadata": {},
     "output_type": "execute_result"
    },
    {
     "data": {
      "image/png": "[encoded data removed]",
      "text/plain": [
       "<Figure size 864x432 with 1 Axes>"
      ]
     },
     "metadata": {
      "needs_background": "light"
     },
     "output_type": "display_data"
    }
   ],
   "source": [
    "np.random.seed(123)\n",
    "\n",
    "X = np.random.uniform(-3, 3, 1000).reshape(-1,1) \n",
    "y = np.sin(X).reshape(-1) + np.random.normal(0, 1, 1000) * (0.05 + 0.1 * X.reshape(-1)**2)\n",
    "\n",
    "plt.figure(figsize=(12,6))\n",
    "plt.scatter(X, y, s=1)"
   ]
  },
  {
   "cell_type": "code",
   "execution_count": 41,
   "id": "780a71d4",
   "metadata": {},
   "outputs": [
    {
     "data": {
      "text/plain": [
       "<matplotlib.collections.PathCollection at 0x13f8228c0>"
      ]
     },
     "execution_count": 41,
     "metadata": {},
     "output_type": "execute_result"
    },
    {
     "data": {
      "image/png": "[encoded data removed]",
      "text/plain": [
       "<Figure size 864x432 with 1 Axes>"
      ]
     },
     "metadata": {
      "needs_background": "light"
     },
     "output_type": "display_data"
    }
   ],
   "source": [
    "model = GaussianGradientBoosting(n_estimators=200)\n",
    "\n",
    "model.fit(X, y)\n",
    "\n",
    "line = np.linspace(-3, 3, 1000).reshape(-1,1)\n",
    "\n",
    "predictions = model.predict(line)\n",
    "mean = predictions[:,0]\n",
    "std = predictions[:,1]\n",
    "\n",
    "plt.figure(figsize=(12,6))\n",
    "plt.plot(line, np.sin(line), c='r')\n",
    "plt.plot(line, mean, c='b')\n",
    "plt.fill_between(line.reshape(-1), mean - 2*std, mean + 2*std, color='b', alpha=0.2)\n",
    "plt.scatter(X, y, s=1)\n"
   ]
  },
  {
   "cell_type": "markdown",
   "id": "02de25b8",
   "metadata": {},
   "source": [
    "This looks pretty good! We can see that the model is able to capture both the conditional mean and standard deviation. In particular, the model is able to capture the increasing variance for larger absolute $x$. \n",
    "\n",
    "From here, it would be relatively easy to extend the model to other distributions. We could, for example experiment with Gamma or Log-Normal distributions to handle target values that can only be positive. More advanced models could also incorporate [censoring](https://en.wikipedia.org/wiki/Censoring_(statistics)) or [truncation](https://en.wikipedia.org/wiki/Truncated_distribution). As long as the respective log-likelihood loss is differentiable with respect to the model output, we will be able to optimize our model."
   ]
  },
  {
   "cell_type": "markdown",
   "id": "c7a3907d",
   "metadata": {},
   "source": [
    "## Varying Coefficient Boosting\n",
    "\n",
    "A fairly common problem of many sophisticated machine learning models is that they are often a black-box. While predictive power can be much better than with simpler models, it is often hard to interpret the results. Hence, a model could make biased, unfair or physically wrong predictions without us even noticing. As a result, there is a growing interest in models that are more interpretable.\n",
    "\n",
    "One such model is [Varying Coefficient Regression](https://en.wikipedia.org/wiki/Varying-coefficient_model). Here, we assume that the coefficients of a linear regression model are not constant but rather depend on the input. In the context of Gradient Boosting, this could look as follows:\n",
    "\n",
    "$$\\hat{y} = F^{(0)}(x) + F^{(1)}(x)\\cdot x^{(1)} + \\cdots F^{(M)}(x)\\cdot x^{(M)}$$\n",
    "\n",
    "Here, we have $M+1$ Boosting models, one for each coefficient in a linear regression model. In a sufficiently small neighborhood around $x$, the model can then be interpreted as a linear regression model with coefficients defined by the boosting model. Once we move outside of this neighborhood, the coefficients change accordingly.\n",
    "\n",
    "Applying the squared error criterion to our Varying Coefficient model above, we now get\n",
    "\n",
    "$$L(F(x),y)=0.5 \\left(y - \\left(F^{(0)}(x) + F^{(1)}(x)\\cdot x^{(1)} + \\cdots F^{(M)}(x)\\cdot x^{(M)}\\right)\\right)^2$$\n",
    "\n",
    "Again, we can let PyTorch differentiate the above with respect to each Gradient Boosting output. To initialize the model, we could, for example, start with the (constant) OLS regression coefficient. This would be the \"correct\" approach, given that we typically want to start with the constant minimizer of the mean loss function over all training points. Here, however, I decided to set $F_0^{(0)}(x)=\\frac{1}{N}\\sum_{i=1}^N y_i$ and the remaining coefficients to zero. \n",
    "\n",
    "Putting all of this together, we get the following model in Python:"
   ]
  },
  {
   "cell_type": "code",
   "execution_count": 42,
   "id": "acc5f75e",
   "metadata": {},
   "outputs": [],
   "source": [
    "class VaryingCoefficientGradientBoosting:\n",
    "\n",
    "    def __init__(self,\n",
    "                 learning_rate: float = 0.025,\n",
    "                 max_depth: int = 1,\n",
    "                 n_estimators: int =100):\n",
    "\n",
    "        self.learning_rate: float = learning_rate\n",
    "        self.max_depth: int = max_depth\n",
    "        self.n_estimators: int = n_estimators\n",
    "\n",
    "        self.init_coeffs: Optional[float] = None\n",
    "        self.coeff_trees: List[List[DecisionTreeRegressor]] = []\n",
    "        \n",
    "        self.is_trained: bool = False\n",
    "\n",
    "    @property\n",
    "    def n_coefficients(self) -> int:\n",
    "        if self.is_trained:\n",
    "            return self.init_coeffs.shape[1]\n",
    "        else:\n",
    "            return 0 \n",
    "\n",
    "    def predict(self, X: np.array) -> np.array:\n",
    "        assert self.is_trained\n",
    "\n",
    "        X = np.concatenate([np.ones(shape = (len(X), 1)), X], 1)\n",
    "\n",
    "        coeffs = self._predict_coeffs(X)\n",
    "        predictions = np.sum(X * coeffs, 1)\n",
    "\n",
    "        return predictions\n",
    "\n",
    "    def _predict_raw(self, X: np.array) -> np.array:\n",
    "        assert self.is_trained\n",
    "        return self._predict_coeffs(X)\n",
    "    \n",
    "\n",
    "    def fit(self, X: np.array, y: np.array) -> None:\n",
    "        X = np.concatenate([np.ones(shape = (len(X), 1)), X], 1)\n",
    "        self._fit_initial(X, y)\n",
    "\n",
    "        self.is_trained = True\n",
    "\n",
    "        for _ in range(self.n_estimators):\n",
    "            y_pred = self._predict_raw(X)\n",
    "\n",
    "            gradients = self._get_gradients(X, y, y_pred)\n",
    "\n",
    "            new_trees = []\n",
    "\n",
    "            for c in range(self.n_coefficients):\n",
    "                coeff_tree = DecisionTreeRegressor(max_depth=self.max_depth)\n",
    "                coeff_tree.fit(X, gradients[:,c])\n",
    "\n",
    "                new_trees.append(coeff_tree)\n",
    "\n",
    "            self.coeff_trees.append(new_trees)\n",
    "\n",
    "\n",
    "\n",
    "    def _fit_initial(self, X: np.array, y: np.array) -> None:\n",
    "        assert not self.is_trained\n",
    "\n",
    "        self.init_coeffs = np.zeros(shape = (1, X.shape[1]))\n",
    "        self.init_coeffs[0,0] = np.mean(y)\n",
    "\n",
    "\n",
    "    def _get_gradients(self, X: np.array, y: np.array, y_pred: np.array) -> np.array:\n",
    "        X_torch = torch.tensor(X).float()\n",
    "        y_torch = torch.tensor(y).float()\n",
    "        y_pred_torch = Variable(torch.tensor(y_pred).float(), requires_grad=True)\n",
    "\n",
    "        sse = -0.5 * (y_torch-(X_torch * y_pred_torch).sum(1)).pow(2.0).sum() #negative sse to get negative gradient\n",
    "        sse.backward() \n",
    "        grads = y_pred_torch.grad.numpy()\n",
    "\n",
    "        grads[grads > np.quantile(grads, 0.95)] = np.quantile(grads, 0.95)\n",
    "        grads[grads < np.quantile(grads, 0.05)] = np.quantile(grads, 0.05)\n",
    "\n",
    "        return grads\n",
    "\n",
    "\n",
    "    def _predict_coeffs(self, X: np.array) -> np.array:\n",
    "        output = np.zeros(shape = (len(X), self.n_coefficients))\n",
    "\n",
    "        output += self.init_coeffs\n",
    "\n",
    "        for tree_list in self.coeff_trees:\n",
    "            for c in range(self.n_coefficients):\n",
    "                output[:,c] += self.learning_rate * tree_list[c].predict(X)\n",
    "\n",
    "        return output"
   ]
  },
  {
   "cell_type": "markdown",
   "id": "2aa7bd5c",
   "metadata": {},
   "source": [
    "This closely resembles the code for the probabilistic model from before. A key difference, however, is the following:\n",
    "\n",
    "```python\n",
    "X_torch = torch.tensor(X).float()\n",
    "y_torch = torch.tensor(y).float()\n",
    "y_pred_torch = Variable(torch.tensor(y_pred).float(), requires_grad=True)\n",
    "\n",
    "mse = -0.5 * (y_torch-(X_torch * y_pred_torch).sum(1)).pow(2.0).sum()\n",
    "mse.backward() \n",
    "grads = y_pred_torch.grad.numpy()\n",
    "\n",
    "grads[grads > np.quantile(grads, 0.95)] = np.quantile(grads, 0.95)\n",
    "grads[grads < np.quantile(grads, 0.05)] = np.quantile(grads, 0.05)\n",
    "```\n",
    "\n",
    "Here, we clip the gradients at the 5% and 95% quantiles. The reason for that is solely an empirical one. Keeping the raw gradients led to some fairly unstable results, i.e. the model loss would usually diverge to infinity. It might be interesting to see the theoretical reason for this, but for now, we will stick with the application side.\n",
    "\n",
    "Notice also that we introduce the intercept term by prepending a column of ones to the input matrix:\n",
    "\n",
    "```python\n",
    "def fit(self, X: np.array, y: np.array) -> None:\n",
    "    X = np.concatenate([np.ones(shape = (len(X), 1)), X], 1)\n",
    "    ...\n",
    "```\n",
    "\n",
    "```python\n",
    "def predict(self, X: np.array) -> np.array:\n",
    "    assert self.is_trained\n",
    "\n",
    "    X = np.concatenate([np.ones(shape = (len(X), 1)), X], 1)\n",
    "    ...\n",
    "```\n",
    "This allows us to treat the respective intercept Boosting model like the other ones. Subsequently, some calculations become a bit simpler. \n",
    "\n",
    "Now, let us test the model on a simple toy problem. We define the data generating process as before, but keep the variance constant:"
   ]
  },
  {
   "cell_type": "code",
   "execution_count": 62,
   "id": "147c53f7",
   "metadata": {},
   "outputs": [
    {
     "data": {
      "text/plain": [
       "<matplotlib.collections.PathCollection at 0x13fe858a0>"
      ]
     },
     "execution_count": 62,
     "metadata": {},
     "output_type": "execute_result"
    },
    {
     "data": {
      "image/png": "[encoded data removed]",
      "text/plain": [
       "<Figure size 720x360 with 1 Axes>"
      ]
     },
     "metadata": {
      "needs_background": "light"
     },
     "output_type": "display_data"
    }
   ],
   "source": [
    "np.random.seed(123)\n",
    "\n",
    "X = np.random.uniform(-3, 3, 1000).reshape(-1,1) \n",
    "y = np.sin(X).reshape(-1) + np.random.normal(0, 0.25, 1000) \n",
    "plt.figure(figsize=(10,5))\n",
    "plt.scatter(X, y, s=1)"
   ]
  },
  {
   "cell_type": "code",
   "execution_count": 63,
   "id": "4035ab05",
   "metadata": {},
   "outputs": [
    {
     "data": {
      "text/plain": [
       "<matplotlib.collections.PathCollection at 0x13f953070>"
      ]
     },
     "execution_count": 63,
     "metadata": {},
     "output_type": "execute_result"
    },
    {
     "data": {
      "image/png": "[encoded data removed]",
      "text/plain": [
       "<Figure size 720x360 with 1 Axes>"
      ]
     },
     "metadata": {
      "needs_background": "light"
     },
     "output_type": "display_data"
    }
   ],
   "source": [
    "model = VaryingCoefficientGradientBoosting(n_estimators=250, learning_rate=0.025)\n",
    "\n",
    "model.fit(X, y)\n",
    "\n",
    "line = np.linspace(-3, 3, 1000).reshape(-1,1)\n",
    "\n",
    "predictions = model.predict(line)\n",
    "\n",
    "plt.figure(figsize=(10,5))\n",
    "plt.plot(line, np.sin(line), c='r')\n",
    "plt.plot(line, predictions, c='b')\n",
    "plt.scatter(X, y, s=1)\n"
   ]
  },
  {
   "cell_type": "markdown",
   "id": "babe4681",
   "metadata": {},
   "source": [
    "Again, the results look reasonable. As our new model has a neat interpretability feature, let us also run the model on an actual dataset. Here, I chose the California Housing dataset from [scikit-learn](https://scikit-learn.org/stable/modules/generated/sklearn.datasets.fetch_california_housing.html). The dataset contains information about housing prices in California in the 1990s. The goal is to predict the median house value in a given block based on the remaining features.\n",
    "\n",
    "To make things more interesting, we will also compare the results against standard Gradient Boosting from sklearn. Keep in mind, though, that the evaluation process is really simple and should not be considered a proper benchmark."
   ]
  },
  {
   "cell_type": "code",
   "execution_count": 64,
   "id": "d3f39446",
   "metadata": {},
   "outputs": [],
   "source": [
    "housing = fetch_california_housing()\n",
    "X = housing.data\n",
    "\n",
    "y = housing.target\n",
    "X_train, X_test, y_train, y_test = train_test_split(X, y, test_size=0.33, random_state=123)\n",
    "\n",
    "X_mean = np.mean(X_train, 0)\n",
    "X_std = np.std(X_train, 0)\n",
    "\n",
    "X_train = (X_train - X_mean) / X_std\n",
    "X_test = (X_test - X_mean) / X_std\n",
    "\n",
    "y_mean = np.mean(y_train)\n",
    "y_std = np.std(y_train)\n",
    "\n",
    "y_train = (y_train - y_mean) / y_std\n",
    "y_test = (y_test - y_mean) / y_std\n",
    "\n"
   ]
  },
  {
   "cell_type": "code",
   "execution_count": 65,
   "id": "0a1b6684",
   "metadata": {},
   "outputs": [
    {
     "name": "stdout",
     "output_type": "stream",
     "text": [
      "RMSE for varying coefficient model: 0.4724723297379694\n",
      "RMSE for gradient boosting model: 0.4893399365654721\n"
     ]
    }
   ],
   "source": [
    "np.random.seed(123)\n",
    "\n",
    "model = VaryingCoefficientGradientBoosting(n_estimators=100, max_depth=2, learning_rate = 0.1)\n",
    "model.fit(X_train, y_train)\n",
    "\n",
    "predictions_varcoeff = model.predict(X_test)\n",
    "\n",
    "rmse_varcoeff = np.sqrt(np.mean((predictions_varcoeff - y_test)**2))\n",
    "\n",
    "\n",
    "gb_model = GradientBoostingRegressor(n_estimators=100, max_depth=2, learning_rate = 0.1)\n",
    "gb_model.fit(X_train, y_train)\n",
    "\n",
    "predictions_gb = gb_model.predict(X_test)\n",
    "\n",
    "rmse_gb = np.sqrt(np.mean((predictions_gb - y_test)**2))\n",
    "\n",
    "print(f\"RMSE for varying coefficient model: {rmse_varcoeff}\")\n",
    "print(f\"RMSE for gradient boosting model: {rmse_gb}\")"
   ]
  },
  {
   "cell_type": "markdown",
   "id": "e7ce6705",
   "metadata": {},
   "source": [
    "This looks great. For the given hyperparameters and data, our approach is able to keep up with standard Gradient Boosting. Now, let us take a look at the coefficients of our model for a given input:"
   ]
  },
  {
   "cell_type": "code",
   "execution_count": 66,
   "id": "71a44114",
   "metadata": {},
   "outputs": [
    {
     "data": {
      "text/plain": [
       "<AxesSubplot:>"
      ]
     },
     "execution_count": 66,
     "metadata": {},
     "output_type": "execute_result"
    },
    {
     "data": {
      "image/png": "[encoded data removed]",
      "text/plain": [
       "<Figure size 864x576 with 1 Axes>"
      ]
     },
     "metadata": {
      "needs_background": "light"
     },
     "output_type": "display_data"
    }
   ],
   "source": [
    "X_eval = np.concatenate([np.ones(shape=(1,1)), X_test[0,:].reshape(1,-1)], axis=1) \n",
    "#need to prepend the intercept column manually, since _predict_coeffs() expects it\n",
    "\n",
    "importances = pd.Series(model._predict_coeffs(X_eval).reshape(-1), index=[\"Intercept\"]+housing.feature_names)\n",
    "importances.sort_values().plot(kind='bar', figsize=(12,8))\n"
   ]
  },
  {
   "cell_type": "markdown",
   "id": "f6b196e4",
   "metadata": {},
   "source": [
    "Besides the intercept, House Age and Median incomde appear to be the most important features for the given input. For another input observation, we get the following:"
   ]
  },
  {
   "cell_type": "code",
   "execution_count": 67,
   "id": "29deed6f",
   "metadata": {},
   "outputs": [
    {
     "data": {
      "text/plain": [
       "<AxesSubplot:>"
      ]
     },
     "execution_count": 67,
     "metadata": {},
     "output_type": "execute_result"
    },
    {
     "data": {
      "image/png": "[encoded data removed]",
      "text/plain": [
       "<Figure size 864x576 with 1 Axes>"
      ]
     },
     "metadata": {
      "needs_background": "light"
     },
     "output_type": "display_data"
    }
   ],
   "source": [
    "X_eval = np.concatenate([np.ones(shape=(1,1)), X_test[10,:].reshape(1,-1)], axis=1) \n",
    "\n",
    "importances = pd.Series(model._predict_coeffs(X_eval).reshape(-1), index=[\"Intercept\"]+housing.feature_names)\n",
    "importances.sort_values().plot(kind='bar', figsize=(12,8))\n"
   ]
  },
  {
   "cell_type": "markdown",
   "id": "5e840a26",
   "metadata": {},
   "source": [
    "Here, the intercept term has much more relevance. Also, latitude and longitude are now the most influential features. \n",
    "\n",
    "It might be debatable whether the intercept term is actually sensible. Technically, removing all other coefficients and only keeping the intercept would result in standard Gradient Boosting. As the latter is already sufficiently powerful in itself, why use varying coefficients at all? On the other hand, removing the intercept entirely would result in a degenerate model for an all-zero input vector. \n",
    "\n",
    "The only possible prediction without an intercept term would then be zero as well, which is not what we want either. Another solution would be to model the intercept term as a constant, not via a Gradient Boosting model. As this would make the code more verbose, I decided to not do it here."
   ]
  },
  {
   "cell_type": "markdown",
   "id": "0c55af27",
   "metadata": {},
   "source": [
    "## Combining Deep Learning with Boosted Trees\n",
    "\n",
    "If you are confident with your Calculus skills, our usage of PyTorch so far might seem rather unneccessary. After all, we could have just calculated the derivatives by hand, without requiring a full-blown framework like PyTorch. While this would require more manual work, it would also be more efficient computation-wise. For that reason, we will now look at an example, where manual differentiation is not a viable option if you want to maintain a healthy social life.\n",
    "\n",
    "The idea is fairly simple: Use a Convolutional Neural Network but replace the elements of the last weight matrix with Gradient Boosting varying coefficients. As this could easily blow up model complexity (consider one Boosting model for each element in a $10\\times10$ matrix), we only work with a rather simple example. In fact, we'll reduce the MNIST dataset to only 0s and 1s to get a binary classification problem. Also, we let the penultimate layer only have two neurons, to reduce the final weight matrix to size $2\\times1$\n",
    "\n",
    "The rest of the model is just a standard CNN with some arbitrary hyperparameters:"
   ]
  },
  {
   "cell_type": "code",
   "execution_count": 68,
   "id": "38211e06",
   "metadata": {},
   "outputs": [],
   "source": [
    "class ConvolutionalNetWithBoostedTrees:\n",
    "\n",
    "    def __init__(self,\n",
    "                 learning_rate: float = 0.025,\n",
    "                 max_depth: int = 1,\n",
    "                 n_estimators: int = 100, \n",
    "                 n_booster: int = 2):\n",
    "        \n",
    "        self.conv1 = torch.nn.Conv2d(1, 16, kernel_size=3, stride=1, padding=1)\n",
    "        self.conv2 = torch.nn.Conv2d(16, 32, kernel_size=3, stride=1, padding=1)\n",
    "        self.fc1 = torch.nn.Linear(7*7*32, 100)\n",
    "        self.fc2 = torch.nn.Linear(100, n_booster)\n",
    "\n",
    "        self.learning_rate: float = learning_rate\n",
    "        self.max_depth: int = max_depth\n",
    "        self.n_estimators: int = n_estimators\n",
    "\n",
    "        self.boosted_trees: List[List[DecisionTreeRegressor]] = []\n",
    "\n",
    "        self.init_coeffs: np.array = np.zeros(shape = (1, n_booster))\n",
    "\n",
    "        self.is_trained: bool = False\n",
    "        self.n_booster = n_booster\n",
    "\n",
    "\n",
    "    def predict(self, X: np.array):\n",
    "        x = torch.tensor(X).float()\n",
    "\n",
    "        x = torch.nn.functional.relu(self.conv1(x))\n",
    "        x = torch.nn.functional.max_pool2d(x, 2)\n",
    "        x = torch.nn.functional.relu(self.conv2(x))\n",
    "        x = torch.nn.functional.max_pool2d(x, 2)\n",
    "        x = x.view(-1, 7*7*32)\n",
    "        x = torch.nn.functional.relu(self.fc1(x))\n",
    "        x = self.fc2(x).detach().numpy()\n",
    "\n",
    "        coeffs = self._predict_coeffs(X.reshape(-1, 28*28))\n",
    "\n",
    "        logits = np.sum(x * coeffs, 1)\n",
    "\n",
    "        #sigmoid\n",
    "        return np.exp(logits) / (1 + np.exp(logits))\n",
    "    \n",
    "\n",
    "    def fit(self, X: np.array, y: np.array, batch_size: int = 500):\n",
    "        self.is_trained = True\n",
    "\n",
    "        for _ in range(self.n_estimators):\n",
    "            idx = np.random.choice(len(X), batch_size, replace=False)\n",
    "            X_batch = X[idx]\n",
    "            y_batch = y[idx]\n",
    "            self._fit_single_step(X_batch, y_batch)\n",
    "\n",
    "\n",
    "    def _fit_single_step(self, X: np.array, y: np.array):\n",
    "\n",
    "        X_2d = X.reshape(-1, 28*28)\n",
    "\n",
    "        coeffs = self._predict_coeffs(X_2d)\n",
    "        coeffs_var = Variable(torch.tensor(coeffs).float(), requires_grad=True)\n",
    "\n",
    "        x = torch.tensor(X).float()\n",
    "        y = torch.tensor(y).float()\n",
    "\n",
    "        x = torch.nn.functional.relu(self.conv1(x))\n",
    "        x = torch.nn.functional.max_pool2d(x, 2)\n",
    "        x = torch.nn.functional.relu(self.conv2(x))\n",
    "        x = torch.nn.functional.max_pool2d(x, 2)\n",
    "        x = x.view(-1, 7*7*32)\n",
    "        x = torch.nn.functional.relu(self.fc1(x))\n",
    "        x = self.fc2(x)\n",
    "\n",
    "        logit = (x * coeffs_var).sum(1)\n",
    "\n",
    "        loss = torch.nn.functional.binary_cross_entropy_with_logits(logit, y)\n",
    "\n",
    "        loss.backward()\n",
    "\n",
    "        coeff_grads = coeffs_var.grad.numpy()\n",
    "        self._update_booster(X_2d, -coeff_grads)\n",
    "\n",
    "        self._update_network()\n",
    "\n",
    "    def _update_network(self):\n",
    "        self.conv1.weight.data -= self.learning_rate * self.conv1.weight.grad\n",
    "        self.conv2.weight.data -= self.learning_rate * self.conv2.weight.grad\n",
    "        self.fc1.weight.data -= self.learning_rate * self.fc1.weight.grad\n",
    "        self.fc2.weight.data -= self.learning_rate * self.fc2.weight.grad\n",
    "\n",
    "        self.conv1.weight.grad.zero_()\n",
    "        self.conv2.weight.grad.zero_()\n",
    "        self.fc1.weight.grad.zero_()\n",
    "        self.fc2.weight.grad.zero_()\n",
    "\n",
    "\n",
    "    def _update_booster(self, X: np.array, y: np.array) -> None:\n",
    "        tree_list = []\n",
    "        for c in range(self.n_booster):\n",
    "            tree = DecisionTreeRegressor(max_depth=self.max_depth, min_samples_leaf=50)\n",
    "            tree.fit(X, y[:,c])\n",
    "            tree_list.append(tree)\n",
    "            self.boosted_trees.append(tree_list)\n",
    "\n",
    "\n",
    "    def _predict_coeffs(self, X: np.array) -> np.array:\n",
    "        output = np.zeros(shape = (len(X), self.n_booster))\n",
    "\n",
    "        output += self.init_coeffs\n",
    "\n",
    "        for tree_list in self.boosted_trees:\n",
    "            for c in range(self.n_booster):\n",
    "                output[:,c] += self.learning_rate * tree_list[c].predict(X)\n",
    "\n",
    "        return output"
   ]
  },
  {
   "cell_type": "markdown",
   "id": "a6fdcbcd",
   "metadata": {},
   "source": [
    "Since we do all calculations except gradient by hand, our model class does not inherit from ```torch.nn.Module``` here. Also, the ```fit``` methods are now slightly different from before, which is due to the additional parameters that we need to learn. For each layer that doesn't use Gradient Boosting, we need to manually implement the gradient steps. Think of this like fitting depth-0 Decision Trees (constant predictions) to a constant target for any input. \n",
    "\n",
    "I.e., our model consists of a parameter vector, that is comprised of many constant and two varying parameters. The latter are the ones we want to model with Boosted Trees:\n",
    "\n",
    "$$\\theta(x)=\\begin{pmatrix}\\theta^{(1)} \\\\ \\vdots \\\\ \\theta^{(K)} \\\\ \\theta^{(K+1)}(x) \\\\ \\theta^{(K+2)}(x)\\end{pmatrix}$$\n",
    "\n",
    "At each gradient descent step, the constant parameters are updated as usual, while the varying parameters are updated via Gradient Boosting:\n",
    "\n",
    "$$\n",
    "\\theta_m(x)=\\begin{pmatrix}\n",
    "\\theta_{m}^{(1)} \\\\ \\vdots \\\\ \\theta_{m}^{(K)} \\\\ \\theta_{m}^{(K+1)}(x) \\\\ \\theta_{m}^{(K+2)}(x)\n",
    "\\end{pmatrix} = \n",
    "\\begin{pmatrix}\n",
    "\\theta_{m-1}^{(1)} \\\\ \\vdots \\\\ \\theta_{m-1}^{(K)} \\\\ \\theta_{m-1}^{(K+1)}(x) \\\\ \\theta_{m-1}^{(K+2)}(x)\n",
    "\\end{pmatrix} - \\gamma \\cdot \n",
    "\\begin{pmatrix}\n",
    "\\frac{\\partial L(\\theta_{m-1}(x),x,y)}{\\partial \\theta_{m-1}^{(1)}} \\\\ \\vdots \\\\ \\frac{\\partial L(\\theta_{m-1}(x),x,y)}{\\partial \\theta_{m-1}^{(K)}} \\\\ \\frac{\\partial L(\\theta_{m-1}(x),x,y)}{\\partial \\theta_{m-1}^{(K+1)}(x)} \\\\ \\frac{\\partial L(\\theta_{m-1}(x),x,y)}{\\partial \\theta_{m-1}^{(K+2)}(x)}\n",
    "\\end{pmatrix}\n",
    "$$\n",
    "\n",
    "For clarity, our loss now also depends explicitly on the input $x$, not only via $\\theta(x)$. The first $K$ elements are then updated in \n",
    "\n",
    "```python\n",
    "def _update_network(self):\n",
    "    self.conv1.weight.data -= self.learning_rate * self.conv1.weight.grad\n",
    "    self.conv2.weight.data -= self.learning_rate * self.conv2.weight.grad\n",
    "    self.fc1.weight.data -= self.learning_rate * self.fc1.weight.grad\n",
    "    self.fc2.weight.data -= self.learning_rate * self.fc2.weight.grad\n",
    "\n",
    "    self.conv1.weight.grad.zero_()\n",
    "    self.conv2.weight.grad.zero_()\n",
    "    self.fc1.weight.grad.zero_()\n",
    "    self.fc2.weight.grad.zero_()\n",
    "```\n",
    "\n",
    "while the Boosting models are updated in \n",
    "\n",
    "```python\n",
    "def _update_booster(self, X: np.array, y: np.array) -> None:\n",
    "    tree_list = []\n",
    "    for c in range(self.n_booster):\n",
    "        tree = DecisionTreeRegressor(max_depth=self.max_depth, min_samples_leaf=50)\n",
    "        tree.fit(X, y[:,c])\n",
    "        tree_list.append(tree)\n",
    "        self.boosted_trees.append(tree_list)\n",
    "```\n",
    "\n",
    "As we are dealing with binary classification, we can use the [Binary Cross-Entropy](https://en.wikipedia.org/wiki/Cross_entropy#Cross-entropy_loss_function_and_logistic_regression) loss directly from PyTorch. Notice that we use the logits for the training steps, i.e. the network output before applying the sigmoid activation function.\n",
    "\n",
    "To speed things up, we also allow for random batch sampling which effectively makes this a Stochastic Gradient Descent algorithm. This is not strictly necessary, but it makes the training process much faster, in particular for the Boosting models.\n",
    "\n",
    "Now, let us test our model on the MNIST dataset:"
   ]
  },
  {
   "cell_type": "code",
   "execution_count": 69,
   "id": "9d31f650",
   "metadata": {},
   "outputs": [],
   "source": [
    "import torchvision\n",
    "\n",
    "mnist_train = torchvision.datasets.MNIST(root='./data', train=True, download=True)\n",
    "mnist_test = torchvision.datasets.MNIST(root='./data', train=False, download=True)\n",
    "\n",
    "X_train = mnist_train.data.numpy()\n",
    "y_train = mnist_train.targets.numpy()\n",
    "\n",
    "X_test = mnist_test.data.numpy()\n",
    "y_test = mnist_test.targets.numpy()\n",
    "\n",
    "X_train = X_train[(y_train == 0) | (y_train == 1)]\n",
    "y_train = y_train[(y_train == 0) | (y_train == 1)]\n",
    "\n",
    "X_test = X_test[(y_test == 0) | (y_test == 1)]\n",
    "y_test = y_test[(y_test == 0) | (y_test == 1)]\n",
    "\n",
    "\n",
    "X_train = X_train.reshape(-1, 1, 28, 28)\n",
    "X_test = X_test.reshape(-1, 1, 28, 28)"
   ]
  },
  {
   "cell_type": "code",
   "execution_count": 70,
   "id": "68f3bc42",
   "metadata": {},
   "outputs": [
    {
     "data": {
      "text/plain": [
       "0.992434988179669"
      ]
     },
     "execution_count": 70,
     "metadata": {},
     "output_type": "execute_result"
    }
   ],
   "source": [
    "np.random.normal(123)\n",
    "torch.manual_seed(123)\n",
    "\n",
    "model = ConvolutionalNetWithBoostedTrees(n_estimators=50, max_depth=3, learning_rate = 0.001)\n",
    "model.fit(X_train, y_train, batch_size=500)\n",
    "\n",
    "#evaluate\n",
    "y_pred = model.predict(X_test)\n",
    "np.mean(np.round(y_pred) == y_test)"
   ]
  },
  {
   "cell_type": "markdown",
   "id": "1603d690",
   "metadata": {},
   "source": [
    "Although this is a toy problem, almost 100% test accuracy is good. We can have confidence that our approach works in principle. As some final shenanigans, let us also consider a measure of local feature importance, concerning the boosting models. For a given input, each pixel and all Decision Trees, we count how often the given pixel (=feature) is encountered in each split rule. Then we can plot the result in an image plot:"
   ]
  },
  {
   "cell_type": "code",
   "execution_count": 87,
   "id": "8783d58e",
   "metadata": {},
   "outputs": [
    {
     "data": {
      "text/plain": [
       "<matplotlib.image.AxesImage at 0x14500c940>"
      ]
     },
     "execution_count": 87,
     "metadata": {},
     "output_type": "execute_result"
    },
    {
     "data": {
      "image/png": "[encoded data removed]",
      "text/plain": [
       "<Figure size 432x288 with 1 Axes>"
      ]
     },
     "metadata": {
      "needs_background": "light"
     },
     "output_type": "display_data"
    }
   ],
   "source": [
    "# get all features in each node from root to leaf that target_x traverses in target_tree\n",
    "\n",
    "def get_features_in_path(target_tree, target_x):\n",
    "    nodes = []\n",
    "    node = 0\n",
    "    nodes.append(node)\n",
    "    while node != -1:\n",
    "        if target_x[target_tree.tree_.feature[node]] < target_tree.tree_.threshold[node]:\n",
    "            node = target_tree.tree_.children_left[node]\n",
    "        else:\n",
    "            node = target_tree.tree_.children_right[node]\n",
    "        nodes.append(node)\n",
    "\n",
    "    #get all features in each node from root to leaf\n",
    "    feature_importances = np.zeros(28*28)\n",
    "    for node in nodes:\n",
    "        if node != -1:\n",
    "            target_feature = target_tree.tree_.feature[node]\n",
    "            if target_feature > -1:\n",
    "                feature_importances[target_feature] += 1\n",
    "    return feature_importances.reshape(28,28)\n",
    "\n",
    "target_x = X_test[0].reshape(-1)\n",
    "\n",
    "feature_importance = np.zeros(shape = (28,28))\n",
    "\n",
    "for tree_list in model.boosted_trees:\n",
    "    for tree in tree_list:\n",
    "        feature_importance += get_features_in_path(tree, target_x) \n",
    "\n",
    "plt.imshow(target_x.reshape(28,28), cmap='gray')\n",
    "plt.imshow(feature_importance, cmap='Greens', alpha=0.85)\n"
   ]
  },
  {
   "cell_type": "code",
   "execution_count": 88,
   "id": "32349ba4",
   "metadata": {},
   "outputs": [
    {
     "data": {
      "text/plain": [
       "<matplotlib.image.AxesImage at 0x145216110>"
      ]
     },
     "execution_count": 88,
     "metadata": {},
     "output_type": "execute_result"
    },
    {
     "data": {
      "image/png": "[encoded data removed]",
      "text/plain": [
       "<Figure size 432x288 with 1 Axes>"
      ]
     },
     "metadata": {
      "needs_background": "light"
     },
     "output_type": "display_data"
    }
   ],
   "source": [
    "target_x = X_test[1].reshape(-1)\n",
    "\n",
    "feature_importance = np.zeros(shape = (28,28))\n",
    "\n",
    "for tree_list in model.boosted_trees:\n",
    "    for tree in tree_list:\n",
    "        feature_importance += get_features_in_path(tree, target_x) \n",
    "\n",
    "plt.imshow(target_x.reshape(28,28), cmap='gray')\n",
    "plt.imshow(feature_importance, cmap='Greens', alpha=0.85)\n"
   ]
  },
  {
   "cell_type": "markdown",
   "id": "641940b7",
   "metadata": {},
   "source": [
    "This could be interpreted as follows: The primary region of interest is around the center of the image (the deep green dots). 1s are mostly colored around there, while 0s will usually be blank around the center. In the bottom case of the 0, we see also some light regions at the left and right edges of the digit being of interest. \n",
    "\n",
    "Keep in mind that this is just a freestyled measure of feature importance. We don't even consider the remaining CNN parts of our model which is clearly insufficient. On the other hand, the output looks still reasonable and gives us at least some idea of what the model is doing. \n",
    "\n",
    "In addition, larger or actual RGB images will likely be much harder to get right with this kind of model in general. Nevertheless, we have created a Gradient Boosting model where using PyTorch is actually a life-saver. "
   ]
  },
  {
   "cell_type": "markdown",
   "id": "ae28b392",
   "metadata": {},
   "source": [
    "## Conclusion\n",
    "As we have seen, marrying Gradient Boosting with PyTorch can be a useful approach. Although manual derivatives will be faster, PyTorch allows us to handle arbitrarily complex models holistically. Since Gradient Boosting is generally a very powerful model, this might create opportunity to improve existing approaches that usually don't include a Boosting component.\n",
    "\n",
    "This also comes with a slight improvement for interpretability, as tree based methods provide at least some insight into a model's inner workings. In one of the next articles, we'll take a look how this all can also be used for time series models."
   ]
  },
  {
   "cell_type": "markdown",
   "id": "349d98f4",
   "metadata": {},
   "source": [
    "## References\n",
    "**[1]** Friedman, Jerome H. Greedy function approximation: A gradient boosting machine. Annals of statistics, 2001\n",
    "\n",
    "**[2]** Hastie, Trevor; Tishbirani, Robert. Varying-coefficient models. Journal of the Royal Statistical Society Series B: Statistical Methodology, 1993\n",
    "\n",
    "**[2]** Paszke, Adam, et al. Pytorch: An imperative style, high-performance deep learning library. Advances in neural information processing systems, 2019\n"
   ]
  }
 ],
 "metadata": {
  "kernelspec": {
   "display_name": "Python 3 (ipykernel)",
   "language": "python",
   "name": "python3"
  },
  "language_info": {
   "codemirror_mode": {
    "name": "ipython",
    "version": 3
   },
   "file_extension": ".py",
   "mimetype": "text/x-python",
   "name": "python",
   "nbconvert_exporter": "python",
   "pygments_lexer": "ipython3",
   "version": "3.10.2"
  }
 },
 "nbformat": 4,
 "nbformat_minor": 5
}
